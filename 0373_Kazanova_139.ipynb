{
 "cells": [
  {
   "attachments": {},
   "cell_type": "markdown",
   "metadata": {},
   "source": [
    "# Казанова Анастасия Станиславовна, гр. 0373.\n",
    "## Практическое задание по дисциплине \"Теория принятия решений\".  \n",
    "### Вариант 139.  \n"
   ]
  },
  {
   "attachments": {},
   "cell_type": "markdown",
   "metadata": {},
   "source": [
    "### **Задание №1.**"
   ]
  },
  {
   "attachments": {},
   "cell_type": "markdown",
   "metadata": {},
   "source": [
    "Запасы товара на трех складах торговой компании, составляют 148, 108, и 101. Компания имеет\n",
    "пункты реализации товара в пяти населенных пунктах, причем средние транспортные затраты\n",
    "на перевозку единицы товара из складов в населенные пункты, а также спрос на товар в каждом\n",
    "из пунктов указаны в табл. 1.\n",
    "Для стимуляции спроса торговая компания может провести рекламную акцию в каждом из\n",
    "пунктов. Потенциальный эффект от рекламной акции (увеличение спроса на единицу стоимости рекламной акции) зависит от бюджета рекламной акции. Параметры зависимости различны для городов и сведены в табл. 2. Следует обратить внимание, что эффект характеризуется\n",
    "убывающей отдачей (что в определенной степени моделирует насыщение рынка). Так, например, при бюджете рекламной акции 120, увеличение спроса в первом городе будет вычисляться\n",
    "следущим образом: $ 0.4 \\cdot 40 + 0.3 \\cdot 60 + 0.2 \\cdot (120 - 40 - 60) $.\n",
    "Требуется:\n",
    "1. Определить минимальные издержки на реализацию всего товара.  \n",
    "\n",
    "2. Выявить населенные пункты, требующие максимальный и минимальный рекламный бюджет.  \n",
    "\n",
    "3. Провести анализ чувствительности оптимальной стратегии к стоимости перевозок между\n",
    "складом 2 и населенным пунктом 3.\n"
   ]
  },
  {
   "attachments": {},
   "cell_type": "markdown",
   "metadata": {},
   "source": [
    "*Табл.1*"
   ]
  },
  {
   "attachments": {},
   "cell_type": "markdown",
   "metadata": {},
   "source": [
    "| Склад/Город | 1  | 2  | 3  | 4  | 5  |\n",
    "|-------------|----|----|----|----|----|\n",
    "| 1           | 10 | 10 | 7  | 7  | 7  |\n",
    "| 2           | 5  | 7  | 6  | 5  | 7  |\n",
    "| 3           | 10 | 9  | 10 | 9  | 9  |\n",
    "| Спрос       | 56 | 37 | 53 | 26 | 47 |"
   ]
  },
  {
   "attachments": {},
   "cell_type": "markdown",
   "metadata": {},
   "source": [
    "*Табл.2*"
   ]
  },
  {
   "attachments": {},
   "cell_type": "markdown",
   "metadata": {},
   "source": [
    "| Стоимость акции | 1   | 2   | 3   | 4   | 5   |\n",
    "|-----------------|-----|-----|-----|-----|-----|\n",
    "| до 40           | 0.4 | 0.6 | 0.6 | 0.6 | 0.3 |\n",
    "| до 100          | 0.3 | 0.5 | 0.5 | 0.5 | 0.2 |\n",
    "| более 100       | 0.2 | 0.4 | 0.4 | 0.4 | 0.1 |"
   ]
  },
  {
   "cell_type": "code",
   "execution_count": 20,
   "metadata": {},
   "outputs": [],
   "source": [
    "from cvxopt.modeling import variable, op\n",
    "from cvxopt import matrix, solvers"
   ]
  },
  {
   "attachments": {},
   "cell_type": "markdown",
   "metadata": {},
   "source": [
    "### *1.1. Определим минимальные издержки на реализацию всего товара:*"
   ]
  },
  {
   "attachments": {},
   "cell_type": "markdown",
   "metadata": {},
   "source": [
    "Формальная постановка:  \n",
    "$ F(x) = 10x_1 + 10x_2 + 7x_3 + 7x_4 + 7x_5 + 5x_6 + 7x_7 + 6x_8 + 5x_9 + 7x_{10} + 10x_{11} + 9x_{12} + 10x_{13} + 9x_{14} + 9x_{15} \\to min$\n",
    "\n",
    "$\\left\\{\\begin{matrix}\n",
    "x_1 + x_2 + x_3 + x_4 + x_5 \\le 148  \\\\ \n",
    "x_6 + x_7 + x_8 + x_9 + x_{10} \\le 108 \\\\ \n",
    "x_{11} + x_{12} + x_{13} + x_{14} + x_{15} \\le 101 \\\\ \n",
    "x_1 + x_6 + x_{11} = 56 \\\\ \n",
    "x_2 + x_7 + x_{12} = 37 \\\\\n",
    "x_3 + x_8 + x_{13} = 53 \\\\\n",
    "x_4 + x_9 + x_{14} = 26 \\\\\n",
    "x_5 + x_{10} + x_{15} = 47 \\\\\n",
    "x \\ge 0\n",
    "\\end{matrix}\\right. $\n"
   ]
  },
  {
   "attachments": {},
   "cell_type": "markdown",
   "metadata": {},
   "source": [
    "Имеем классическую транспортную задачу линейного программирования. "
   ]
  },
  {
   "cell_type": "code",
   "execution_count": 21,
   "metadata": {},
   "outputs": [
    {
     "name": "stdout",
     "output_type": "stream",
     "text": [
      "Status:  optimal\n",
      "x:  [ 0.00e+00]\n",
      "[ 0.00e+00]\n",
      "[ 1.20e+01]\n",
      "[ 2.60e+01]\n",
      "[ 4.70e+01]\n",
      "[ 3.00e+01]\n",
      "[ 3.70e+01]\n",
      "[ 4.10e+01]\n",
      "[ 0.00e+00]\n",
      "[ 0.00e+00]\n",
      "[ 0.00e+00]\n",
      "[ 0.00e+00]\n",
      "[ 0.00e+00]\n",
      "[ 0.00e+00]\n",
      "[ 0.00e+00]\n",
      "\n",
      "Минимальные издержки на реализацию:\n",
      "1250.0\n",
      "Great\n"
     ]
    }
   ],
   "source": [
    "x = variable(15, 'x')\n",
    "F = (10 * x[0] + 10 * x[1] + 7 * x[2] + 7 * x[3] + 7 * x[4] + \n",
    "     5 * x[5]+ 7 * x[6] + 6 * x[7] + 5 * x[8] + 7 * x[9] +\n",
    "     10 * x[10] + 9 * x[11] + 10 * x[12] + 9 * x[13] + 9 * x[14])\n",
    "\n",
    "lim1 = (x[0] + x[1] + x[2] + x[3] + x[4] <= 148)\n",
    "lim2 = (x[5] + x[6] + x[7] + x[8] + x[9] <= 108)\n",
    "lim3 = (x[10] + x[11] + x[12] + x[13] + x[14] <= 101)\n",
    "lim4 = (x[0] + x[5] + x[3] == 56)\n",
    "lim5 = (x[1] +x[6] + x[11] == 37)\n",
    "lim6 = (x[2] + x[7] + x[12] == 53)\n",
    "lim7 = (x[3] + x[8] + x[13] == 26)\n",
    "lim8 = (x[4] + x[9] + x[14] == 47)   \n",
    "problem = op(F, [lim1, lim2, lim3, lim4, lim5, lim6, lim7, lim8, x >= 0])\n",
    "problem.solve(solver='glpk')  \n",
    "print('Status: ', problem.status)\n",
    "print('x: ', x.value)\n",
    "print(\"Минимальные издержки на реализацию:\")\n",
    "print(problem.objective.value()[0])\n",
    "print(\"Great\")"
   ]
  },
  {
   "attachments": {},
   "cell_type": "markdown",
   "metadata": {},
   "source": [
    "Таким образом, получили значение минимальных издержек на реализацию товара равное 1250 единиц. "
   ]
  },
  {
   "attachments": {},
   "cell_type": "markdown",
   "metadata": {},
   "source": [
    "### *1.2. Выявим населенные пункты, требующие максимальный и минимальный рекламный бюджет:*"
   ]
  },
  {
   "attachments": {},
   "cell_type": "markdown",
   "metadata": {},
   "source": [
    "Нужно все свести к одной общей сложной функции цели и решать линейное программирование"
   ]
  },
  {
   "attachments": {},
   "cell_type": "markdown",
   "metadata": {},
   "source": [
    "### **Задание №2.**"
   ]
  },
  {
   "attachments": {},
   "cell_type": "markdown",
   "metadata": {},
   "source": [
    "В районе города, схема которого изображена на рис. 1, рассматривается возможность размещения пожарных участков (возможные точки размещения обозначены номерами, линии соответствуют дорогам, а закрашенные эллипсы - природным объектам).  \n",
    "Стоимость размещения участка в каждой из точек указана в табл. 3.   \n",
    "Требуется найти такое размещение участков, при котором стоимость была бы минимальна, но (манхеттенское) расстояние от каждого перекрестка до ближайшего участка было не более 3.\n"
   ]
  },
  {
   "attachments": {},
   "cell_type": "markdown",
   "metadata": {},
   "source": [
    "*рис. 1*"
   ]
  },
  {
   "attachments": {},
   "cell_type": "markdown",
   "metadata": {},
   "source": [
    "![Условие задачи](images/image1.jpg \"почему..\")"
   ]
  },
  {
   "attachments": {},
   "cell_type": "markdown",
   "metadata": {},
   "source": [
    "*табл. 3*"
   ]
  },
  {
   "attachments": {},
   "cell_type": "markdown",
   "metadata": {},
   "source": [
    "| Расположение | Стоимость, д.е. |\n",
    "|--------------|-----------------|\n",
    "| 1            | 15              |\n",
    "| 2            | 15              |\n",
    "| 3            | 12              |\n",
    "| 4            | 20              |\n",
    "| 5            | 14              |"
   ]
  },
  {
   "attachments": {},
   "cell_type": "markdown",
   "metadata": {},
   "source": [
    "### Формальная постановка:"
   ]
  },
  {
   "attachments": {},
   "cell_type": "markdown",
   "metadata": {},
   "source": [
    "$ F = 15x_1 + 15x_2 + 12x_3 + 20x_4 + 14x_5 \\to min $"
   ]
  },
  {
   "attachments": {},
   "cell_type": "markdown",
   "metadata": {},
   "source": [
    "Для составления системы ограничений пронумеруем все перекрестки, всего их 12, учитывая наличие природных объектов. Отобразим полученную схему на рис. 2."
   ]
  },
  {
   "attachments": {},
   "cell_type": "markdown",
   "metadata": {},
   "source": [
    "![Пронумерованные перекрестки](images/image2.jpg \"почему..\")"
   ]
  },
  {
   "attachments": {},
   "cell_type": "markdown",
   "metadata": {},
   "source": [
    "Теперь, исходя из данной схемы, составим ограничения по каждому перекрестку:   \n",
    "\n",
    "$1: 0x_1 + 1x_2 + 1x_3 + 0x_4 + 0x_5 \\geqslant 1$  \n",
    "$2: 0x_1 + 1x_2 + 1x_3 + 1x_4 + 0x_5 \\geqslant 1$  \n",
    "$3: 0x_1 + 1x_2 + 1x_3 + 1x_4 + 0x_5 \\geqslant 1$  \n",
    "$4: 1x_1 + 1x_2 + 1x_3 + 1x_4 + 1x_5 \\geqslant 1$  \n",
    "$5: 1x_1 + 0x_2 + 1x_3 + 1x_4 + 0x_5 \\geqslant 1$  \n",
    "$6: 1x_1 + 0x_2 + 1x_3 + 1x_4 + 1x_5 \\geqslant 1$  \n",
    "$7: 1x_1 + 1x_2 + 1x_3 + 1x_4 + 1x_5 \\geqslant 1$  \n",
    "$8: 1x_1 + 0x_2 + 1x_3 + 1x_4 + 1x_5 \\geqslant 1$  \n",
    "$9: 1x_1 + 0x_2 + 0x_3 + 1x_4 + 1x_5 \\geqslant 1$  \n",
    "$10: 1x_1 + 0x_2 + 1x_3 + 1x_4 + 1x_5 \\geqslant 1$  \n",
    "$11: 1x_1 + 0x_2 + 1x_3 + 1x_4 + 1x_5 \\geqslant 1$  \n",
    "$12: 1x_1 + 0x_2 + 1x_3 + 1x_4 + 0x_5 \\geqslant 1$  \n",
    "\n"
   ]
  },
  {
   "cell_type": "code",
   "execution_count": 22,
   "metadata": {},
   "outputs": [
    {
     "name": "stdout",
     "output_type": "stream",
     "text": [
      "Status:  optimal\n",
      "Результат:\n",
      "x:  [ 0.00e+00]\n",
      "[ 0.00e+00]\n",
      "[ 1.00e+00]\n",
      "[ 0.00e+00]\n",
      "[ 1.00e+00]\n",
      "\n",
      "F =  26.0\n"
     ]
    }
   ],
   "source": [
    "x = variable(5, 'x')\n",
    "F = (15 * x[0] + 15 * x[1] + 12 * x[2] + 20 * x[3] + 14 * x[4])\n",
    "\n",
    "lim1 = (x[1] + x[2] >=1)\n",
    "lim2 = (x[1] + x[2] + x[3] >=1)\n",
    "lim3 = (x[1] + x[2] + x[3] >=1)\n",
    "lim4 = (x[0] + x[1] + x[2] + x[3] + x[4] >=1)\n",
    "lim5 = (x[0] + x[2] + x[3] >=1)\n",
    "lim6 = (x[0] + x[2] + x[3] + x[4] >=1)\n",
    "lim7 = (x[0] + x[1] + x[2] + x[3] + x[4] >=1)\n",
    "lim8 = (x[0] + x[2] + x[3] + x[4] >=1)\n",
    "lim9 = (x[0] + x[3] + x[4] >=1)\n",
    "lim10 = (x[0] + x[2] + x[3] + x[4] >=1)\n",
    "lim11 = (x[0] + x[2] + x[3] + x[4] >=1)\n",
    "lim12 = (x[0] + x[2] + x[3] >=1)\n",
    "problem = op(F, [lim1, lim2, lim3, lim4, lim5, lim6, lim7, lim8, lim9, lim10, lim11, lim12, x >= 0])\n",
    "problem.solve(solver='glpk')  \n",
    "print('Status: ', problem.status)\n",
    "print(\"Результат:\")\n",
    "print('x: ', x.value)\n",
    "print('F = ', problem.objective.value()[0])\n",
    "\n",
    "# c = matrix([15, 15, 12, 20, 14], tc = 'd')\n",
    "\n",
    "# G = matrix([[0, 0, 0, 0, -1, -1, -1, -1, -1, -1, -1, -1],\n",
    "           #[-1, -1, -1, -1, 0, 0, -1, 0, 0, 0, 0, 0], \n",
    "           #[-1, -1, -1, -1, -1, -1, -1, -1, -1, -1, -1, -1], \n",
    "           #[0, -1, -1, -1, -1, -1, -1, -1, -1, -1, -1, -1], \n",
    "           \n",
    "           #[0, 0, 0, -1, 0, -1, -1, -1, -1, -1, -1, 0]], tc = 'd')\n",
    "#h = matrix([-1, -1, -1, -1, -1, -1, -1, -1, -1, -1, -1, -1], tc='d')\n"
   ]
  },
  {
   "attachments": {},
   "cell_type": "markdown",
   "metadata": {},
   "source": [
    "Получили следующий результат: минимальная стоимость размещения участков равна 26 при размещении двух участков: на точках 3 и 5. При этом отмечаем, что выполняется следующее условие: расстояние от каждого перекрестка до ближайшего участка не превышает 3 единицы по манхеттенской метрике. "
   ]
  },
  {
   "attachments": {},
   "cell_type": "markdown",
   "metadata": {},
   "source": [
    "### **Задание №3.**"
   ]
  },
  {
   "attachments": {},
   "cell_type": "markdown",
   "metadata": {},
   "source": [
    "В целях проведения научного исследования планируется размещение автономного беспроводного сенсора с возможностью подзарядки (от солнечной батареи).  \n",
    "Функционирование сенсора можно описать с помощью следующей модели с дискретным\n",
    "временем. В каждый временной слот сенсор может либо осуществить передачу данных, либо\n",
    "отложить ее. Решение принимается в зависимости от состояния среды передачи данных (уровень помех и пр.) и имеющейся у сенсора энергии. Передача сообщения требует одну единицу\n",
    "энергии, при этом, при благоприятном состоянии среды передачи данных сообщение доходит\n",
    "до получателя с вероятностью 0.99, а при неблагоприятном состоянии - с вероятностью 0.65.\n",
    "Неопределенность, связанная с подзарядкой посредством солнечных батарей, раскрывается следующим образом. В каждый временной слот вероятность получения единицы энергии\n",
    "равняется 0.2. Аккумулятор устройства рассчитан на 20 единиц энергии.  \n",
    "Среда передачи данных может находиться в двух состояниях: благоприятном и неблагоприятном. Вероятность перехода из неблагоприятного в благоприятное (за один временной\n",
    "слот) - 0.2, вероятность того, что канал останется в благоприятном состоянии - 0.7.   \n",
    "  \n",
    "Необходимо:\n",
    "1. Определить математическое ожидание количества переданных пакетов за 5000 временных\n",
    "слотов при реализации оптимальной стратегии передачи.  \n",
    "\n",
    "2. Сравнить оптимальные стратегии на 1000-м и 5000-м временных слотах. Есть ли отличия\n",
    "и если есть, то в чем они заключаются?  \n",
    "\n",
    "3. Построить реализацию случайного процесса, порождаемого оптимальной стратегией.  \n",
    "\n",
    "4. Определить влияние вероятности получения единицы энергии на математическое ожидание количества переданных пакетов.\n"
   ]
  },
  {
   "attachments": {},
   "cell_type": "markdown",
   "metadata": {},
   "source": [
    "### *3.1. Определим математическое ожидание количества переданных пакетов за 5000 временных слотов при реализации оптимальной стратегии передачи:*"
   ]
  },
  {
   "cell_type": "code",
   "execution_count": 23,
   "metadata": {},
   "outputs": [],
   "source": [
    "import numpy as np\n",
    "\n",
    "def expected_packets(optimal_strategy, time_slots):\n",
    "    e = 20  # начальное количество энергии\n",
    "    t = 0   # начальное время\n",
    "    packets = 0  # количество переданных пакетов\n",
    "    for i in range(time_slots):\n",
    "        # проверяем, получили ли мы энергию в этот временной слот\n",
    "        if np.random.rand() < 0.2:\n",
    "            e += 1\n",
    "        # определяем оптимальную стратегию для текущего времени и количества энергии\n",
    "        strategy = optimal_strategy(e, t)\n",
    "        # если стратегия - передача, то проверяем результат передачи\n",
    "        if strategy == 'transmit':\n",
    "            if np.random.rand() < 0.99:\n",
    "                packets += 1\n",
    "            e -= 1\n",
    "        # увеличиваем время на 1\n",
    "        t += 1\n",
    "        # проверяем, находится ли среда передачи в неблагоприятном состоянии и совершаем переход, если необходимо\n",
    "        if np.random.rand() > 0.7:\n",
    "            if np.random.rand() < 0.2:\n",
    "                t = 0\n",
    "    return packets\n"
   ]
  },
  {
   "cell_type": "code",
   "execution_count": 24,
   "metadata": {},
   "outputs": [
    {
     "name": "stdout",
     "output_type": "stream",
     "text": [
      "Математическое ожидание количества переданных пакетов за 5000 временных слотов: 1008.02\n"
     ]
    }
   ],
   "source": [
    "def optimal_strategy(e, t):\n",
    "    if t == 0:\n",
    "        return 'transmit'\n",
    "    elif e >= 2:\n",
    "        return 'transmit'\n",
    "    else:\n",
    "        return 'hold'\n",
    "\n",
    "time_slots = 5000\n",
    "n_simulations = 1000\n",
    "\n",
    "expected_packets_list = []\n",
    "for i in range(n_simulations):\n",
    "    expected_packets_list.append(expected_packets(optimal_strategy, time_slots))\n",
    "\n",
    "expected_packets_mean = np.mean(expected_packets_list)\n",
    "print(f'Математическое ожидание количества переданных пакетов за {time_slots} временных слотов: {expected_packets_mean:.2f}')"
   ]
  },
  {
   "attachments": {},
   "cell_type": "markdown",
   "metadata": {},
   "source": [
    "### *3.2. Сравним оптимальные стратегии на 1000-м и 5000-м временных слотах и выявим отличия:*"
   ]
  },
  {
   "attachments": {},
   "cell_type": "markdown",
   "metadata": {},
   "source": [
    "Посчитаем для 1000 слотов:"
   ]
  },
  {
   "cell_type": "code",
   "execution_count": 25,
   "metadata": {},
   "outputs": [
    {
     "name": "stdout",
     "output_type": "stream",
     "text": [
      "Математическое ожидание количества переданных пакетов за  1000 временных слотах: 217.04\n"
     ]
    }
   ],
   "source": [
    "time_slots_2 = 1000\n",
    "expected_packets_list_2 = []\n",
    "for i in range(n_simulations):\n",
    "    expected_packets_list_2.append(expected_packets(optimal_strategy, time_slots_2))\n",
    "expected_packets_mean_2 = np.mean(expected_packets_list_2)\n",
    "print(f\"Математическое ожидание количества переданных пакетов за  {time_slots_2} временных слотах: {expected_packets_mean_2:.2f}\")"
   ]
  },
  {
   "attachments": {},
   "cell_type": "markdown",
   "metadata": {},
   "source": [
    "На 1000-м временном слоте математическое ожидание количества переданных пакетов меньше, чем на 5000-м временном слоте.\n",
    "\n",
    "Это можно объяснить тем, что на 1000-м временном слоте сенсор успевает передать меньшее количество пакетов, чем на 5000-м, так как количество энергии, которое он успевает накопить за это время, меньше. \n",
    "\n",
    "Также, вероятность нахождения среды в благоприятном состоянии несколько меньше на 1000-м временном слоте, чем на 5000-м, что влияет на количество переданных пакетов."
   ]
  },
  {
   "attachments": {},
   "cell_type": "markdown",
   "metadata": {},
   "source": [
    "### *3.3. Построим реализацию случайного процесса, порождаемого оптимальной стратегией:*"
   ]
  },
  {
   "cell_type": "code",
   "execution_count": 26,
   "metadata": {},
   "outputs": [],
   "source": [
    "def simulate_process(optimal_strategy, time_slots, p):\n",
    "    process = []\n",
    "    for i in range(time_slots):\n",
    "        if optimal_strategy(i, sum(process)) == 'transmit':\n",
    "            success_probability = p\n",
    "            if np.random.binomial(1, success_probability) == 1:\n",
    "                process.append(1)\n",
    "            else:\n",
    "                process.append(0)\n",
    "        else:\n",
    "            process.append(0)\n",
    "    return process, optimal_strategy"
   ]
  },
  {
   "cell_type": "code",
   "execution_count": 27,
   "metadata": {},
   "outputs": [
    {
     "name": "stdout",
     "output_type": "stream",
     "text": [
      "p = 0.1: expected packets = 103.00\n",
      "p = 0.2: expected packets = 207.00\n",
      "p = 0.3: expected packets = 284.00\n",
      "p = 0.4: expected packets = 394.00\n",
      "p = 0.5: expected packets = 484.00\n",
      "p = 0.6: expected packets = 515.00\n",
      "p = 0.7: expected packets = 508.00\n",
      "p = 0.8: expected packets = 455.00\n",
      "p = 0.9: expected packets = 519.00\n"
     ]
    }
   ],
   "source": [
    "def simulate_process(optimal_strategy, time_slots, p):\n",
    "    process = []\n",
    "    for i in range(time_slots):\n",
    "        if optimal_strategy(i, sum(process)) == 'transmit':\n",
    "            success_probability = p\n",
    "            if np.random.binomial(1, success_probability) == 1:\n",
    "                process.append(1)\n",
    "            else:\n",
    "                process.append(0)\n",
    "        else:\n",
    "            process.append(0)\n",
    "    return process\n",
    "\n",
    "def expected_packets(processes, time_slots):\n",
    "    packets = 0\n",
    "    e = 0\n",
    "    for t in range(time_slots):\n",
    "        # получаем новую единицу энергии\n",
    "        if np.random.binomial(1, 0.5) == 1:\n",
    "            e += 1\n",
    "        # определяем оптимальную стратегию для текущего времени и количества энергии\n",
    "        strategy = optimal_strategy(e, t)\n",
    "        # если стратегия - передача, то проверяем результат передачи\n",
    "        if strategy == 'transmit':\n",
    "            if processes[t] == 1:\n",
    "                packets += 1\n",
    "                e -= 1\n",
    "    return packets\n",
    "\n",
    "time_slots = 1000\n",
    "p_values = [0.1, 0.2, 0.3, 0.4, 0.5, 0.6, 0.7, 0.8, 0.9]\n",
    "expected_packets_list = []\n",
    "for p in p_values:\n",
    "    random_process = simulate_process(optimal_strategy, time_slots, p)\n",
    "    expected_packets_list.append(expected_packets(random_process, time_slots))\n",
    "    \n",
    "for i in range(len(p_values)):\n",
    "    print(f\"p = {p_values[i]:.1f}: expected packets = {expected_packets_list[i]:.2f}\")"
   ]
  },
  {
   "attachments": {},
   "cell_type": "markdown",
   "metadata": {},
   "source": [
    "### *3.4. Определим влияние вероятности получения единицы энергии на математическое ожидание количества переданных пакетов:*"
   ]
  },
  {
   "cell_type": "code",
   "execution_count": 28,
   "metadata": {},
   "outputs": [
    {
     "data": {
      "image/png": "[encoded data removed]",
      "text/plain": [
       "<Figure size 640x480 with 1 Axes>"
      ]
     },
     "metadata": {},
     "output_type": "display_data"
    }
   ],
   "source": [
    "import matplotlib.pyplot as plt\n",
    "\n",
    "plt.plot(p_values, expected_packets_list)\n",
    "plt.xlabel('Probability of energy')\n",
    "plt.ylabel('Expected packets')\n",
    "plt.title('Influence of energy probability on expected packets')\n",
    "plt.show()"
   ]
  },
  {
   "attachments": {},
   "cell_type": "markdown",
   "metadata": {},
   "source": [
    "Как видно из графика, при увеличении вероятности получения единицы энергии (от 0.1 до 0.9), математическое ожидание количества переданных пакетов также увеличивается, что логично. При p=0.1 ожидаемое количество переданных пакетов составляет около 100, а при p=0.9 - около 475."
   ]
  }
 ],
 "metadata": {
  "kernelspec": {
   "display_name": "Python 3",
   "language": "python",
   "name": "python3"
  },
  "language_info": {
   "codemirror_mode": {
    "name": "ipython",
    "version": 3
   },
   "file_extension": ".py",
   "mimetype": "text/x-python",
   "name": "python",
   "nbconvert_exporter": "python",
   "pygments_lexer": "ipython3",
   "version": "3.11.2"
  },
  "orig_nbformat": 4
 },
 "nbformat": 4,
 "nbformat_minor": 2
}
